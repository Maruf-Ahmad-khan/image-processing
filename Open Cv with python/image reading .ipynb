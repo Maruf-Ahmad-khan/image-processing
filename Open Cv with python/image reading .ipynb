{
 "cells": [
  {
   "cell_type": "code",
   "execution_count": 5,
   "metadata": {},
   "outputs": [
    {
     "name": "stdout",
     "output_type": "stream",
     "text": [
      "[[[255 255 255]\n",
      "  [255 255 255]\n",
      "  [255 255 255]\n",
      "  ...\n",
      "  [255 255 255]\n",
      "  [255 255 255]\n",
      "  [255 255 255]]\n",
      "\n",
      " [[255 255 255]\n",
      "  [255 255 255]\n",
      "  [255 255 255]\n",
      "  ...\n",
      "  [255 255 255]\n",
      "  [255 255 255]\n",
      "  [255 255 255]]\n",
      "\n",
      " [[255 255 255]\n",
      "  [255 255 255]\n",
      "  [255 255 255]\n",
      "  ...\n",
      "  [255 255 255]\n",
      "  [255 255 255]\n",
      "  [255 255 255]]\n",
      "\n",
      " ...\n",
      "\n",
      " [[255 255 255]\n",
      "  [255 255 255]\n",
      "  [255 255 255]\n",
      "  ...\n",
      "  [255 255 255]\n",
      "  [255 255 255]\n",
      "  [255 255 255]]\n",
      "\n",
      " [[255 255 255]\n",
      "  [255 255 255]\n",
      "  [255 255 255]\n",
      "  ...\n",
      "  [255 255 255]\n",
      "  [255 255 255]\n",
      "  [255 255 255]]\n",
      "\n",
      " [[255 255 255]\n",
      "  [255 255 255]\n",
      "  [255 255 255]\n",
      "  ...\n",
      "  [255 255 255]\n",
      "  [255 255 255]\n",
      "  [255 255 255]]]\n"
     ]
    }
   ],
   "source": [
    "# import libraries\n",
    "import cv2 \n",
    "img1 = cv2.imread(r\"C:\\Users\\ASUS\\Downloads\\Open Cv with python\\images.jpeg\",1)\n",
    "cv2.imshow(\"Original\", img1)\n",
    "print(img1)\n",
    "cv2.waitKey()\n",
    "cv2.destroyAllWindows()"
   ]
  },
  {
   "cell_type": "code",
   "execution_count": 7,
   "metadata": {},
   "outputs": [
    {
     "name": "stdout",
     "output_type": "stream",
     "text": [
      "[[255 255 255 ... 255 255 255]\n",
      " [255 255 255 ... 255 255 255]\n",
      " [255 255 255 ... 255 255 255]\n",
      " ...\n",
      " [255 255 255 ... 255 255 255]\n",
      " [255 255 255 ... 255 255 255]\n",
      " [255 255 255 ... 255 255 255]]\n"
     ]
    }
   ],
   "source": [
    "# Two types of image\n",
    "# single channel \n",
    "# three channel\n",
    "# import libraries\n",
    "import cv2 \n",
    "img2 = cv2.imread(r\"C:\\Users\\ASUS\\Downloads\\Open Cv with python\\images.jpeg\",0)\n",
    "cv2.imshow(\"Gray Scale Image\", img2)\n",
    "print(img2)\n",
    "cv2.waitKey()\n",
    "cv2.destroyAllWindows()"
   ]
  },
  {
   "cell_type": "code",
   "execution_count": 14,
   "metadata": {},
   "outputs": [
    {
     "name": "stdout",
     "output_type": "stream",
     "text": [
      "You Enter this === C:\\Users\\ASUS\\Downloads\\Open Cv with python\\Ballon pic.jpg\n"
     ]
    }
   ],
   "source": [
    "# Mini project\n",
    "# Image conversion project\n",
    "# colored image into grayscale.\n",
    "path = input(\"Enter the path and name of an image===\")\n",
    "print(\"You Enter this ===\", path)\n",
    "# Now read image\n",
    "img3 = cv2.imread(path, 0)\n",
    "img3 = cv2.resize(img3,(560,700))\n",
    "img3 = cv2.flip(img3,1)\n",
    "cv2.imshow(\"converted image ==\", img3)\n",
    "cv2.waitKey()\n",
    "cv2.destroyAllWindows()\n",
    "k = cv2.waitKey(0)\n",
    "if k==ord(\"s\"):\n",
    "    cv2.imwrite(\"D\\\\output.png\", img3)\n",
    "else:\n",
    "    cv2.destroyAllWindows()"
   ]
  },
  {
   "cell_type": "code",
   "execution_count": null,
   "metadata": {},
   "outputs": [],
   "source": []
  }
 ],
 "metadata": {
  "kernelspec": {
   "display_name": "Python 3",
   "language": "python",
   "name": "python3"
  },
  "language_info": {
   "codemirror_mode": {
    "name": "ipython",
    "version": 3
   },
   "file_extension": ".py",
   "mimetype": "text/x-python",
   "name": "python",
   "nbconvert_exporter": "python",
   "pygments_lexer": "ipython3",
   "version": "3.11.4"
  },
  "orig_nbformat": 4
 },
 "nbformat": 4,
 "nbformat_minor": 2
}
