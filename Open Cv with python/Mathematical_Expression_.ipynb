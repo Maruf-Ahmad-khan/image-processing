{
  "nbformat": 4,
  "nbformat_minor": 0,
  "metadata": {
    "colab": {
      "private_outputs": true,
      "provenance": []
    },
    "kernelspec": {
      "name": "python3",
      "display_name": "Python 3"
    },
    "language_info": {
      "name": "python"
    }
  },
  "cells": [
    {
      "cell_type": "code",
      "execution_count": null,
      "metadata": {
        "id": "UvHl5_h3e3p9"
      },
      "outputs": [],
      "source": [
        "!pip install latexify-py==0.2.0"
      ]
    },
    {
      "cell_type": "code",
      "source": [
        "import math\n",
        "import latexify\n",
        "latexify.__version__"
      ],
      "metadata": {
        "id": "wzLSbn4ve-6l"
      },
      "execution_count": null,
      "outputs": []
    },
    {
      "cell_type": "code",
      "source": [
        "@latexify.function\n",
        "def solve(a, b, c):\n",
        "  return(-b + math.sqrt(b**2 - 4*a*c))/(2*a)\n",
        "# Invoking the function works as expected\n",
        "print(solve(1,4,3))\n",
        "print(solve)\n",
        "#Printing the function shows the underlying LaTeX expression.\n",
        "solve\n",
        "# Display the MathJax."
      ],
      "metadata": {
        "id": "_hGI6UszfBt2"
      },
      "execution_count": null,
      "outputs": []
    },
    {
      "cell_type": "code",
      "source": [
        "# latexify.expression works similarly,but does not output the signature.\n",
        "@latexify.expression\n",
        "def solve(a,b,c):\n",
        "  return (-b + math.sqrt(b**2 -4*a*c)) / (2*a)\n",
        "solve"
      ],
      "metadata": {
        "id": "ma1U8w1ifJZm"
      },
      "execution_count": null,
      "outputs": []
    },
    {
      "cell_type": "code",
      "source": [
        "# latexify.get_latex obtains the underlying LaTeX expression directly.\n",
        "def solve(a,b,c):\n",
        "  return (-b + math.sqrt(b**2 -4*a*c)) / (2*a)\n",
        "latexify.get_latex(solve)"
      ],
      "metadata": {
        "id": "RpG7OykofL62"
      },
      "execution_count": null,
      "outputs": []
    },
    {
      "cell_type": "code",
      "source": [
        "@latexify.expression\n",
        "def sinc(x):\n",
        "  if x == 0:\n",
        "    return 1\n",
        "  else:\n",
        "    return math.sin(x) / x\n",
        "sinc"
      ],
      "metadata": {
        "id": "01fXJiROfgBg"
      },
      "execution_count": null,
      "outputs": []
    },
    {
      "cell_type": "code",
      "source": [
        "# Elif or nested else-if are unrolled.\n",
        "@latexify.expression\n",
        "def fib(x):\n",
        "  if x == 0:\n",
        "    return 0\n",
        "  elif x == 1:\n",
        "    return 1\n",
        "  else:\n",
        "    return fib(x-1) + fib(x-2)\n",
        "fib\n"
      ],
      "metadata": {
        "id": "npVhv7b5Hjqv"
      },
      "execution_count": null,
      "outputs": []
    },
    {
      "cell_type": "code",
      "source": [
        "# Some math symbol are converted automatically.\n",
        "@latexify.expression(use_math_symbols = True)\n",
        "def greek(alpha, beta, gamma, omega):\n",
        "  return alpha * beta + math.gamma(gamma) + omega\n",
        "greek"
      ],
      "metadata": {
        "id": "ttdgX7OfILHu"
      },
      "execution_count": null,
      "outputs": []
    },
    {
      "cell_type": "code",
      "source": [
        "# Function names, arguments, variables can be replaced\n",
        "identifiers = {\n",
        "    \"my_function\":\"f\",\n",
        "    \"my_inner_function\":\"g\",\n",
        "    \"my_argument\" : \"x\",\n",
        "}\n",
        "@latexify.expression(identifiers = identifiers)\n",
        "def my_function(my_argument):\n",
        "  return my_inner_function(my_argument)\n",
        "my_function"
      ],
      "metadata": {
        "id": "hZjUVgOqI0Wv"
      },
      "execution_count": null,
      "outputs": []
    },
    {
      "cell_type": "code",
      "source": [
        "# Assignments can be reduced into one expression\n",
        "@latexify.expression(reduce_assignments =True)\n",
        "def func(a,b,c):\n",
        "  discriminant = b**2 - 4*a*c\n",
        "  numerator = -b + math.sqrt(discriminant)\n",
        "  denominator = 2 * a\n",
        "  return numerator / denominator\n",
        "func"
      ],
      "metadata": {
        "id": "EeLywzzOO8w2"
      },
      "execution_count": null,
      "outputs": []
    },
    {
      "cell_type": "code",
      "source": [
        "# Fonts\n",
        "from IPython.display import display, Math, Latex\n",
        "display(Math(r'mathrm{Roman}'))"
      ],
      "metadata": {
        "id": "IGXR2l6zP8_T"
      },
      "execution_count": null,
      "outputs": []
    },
    {
      "cell_type": "code",
      "source": [
        "display(Math(r'mathit{Italic}'))"
      ],
      "metadata": {
        "id": "wLLPtrBxRHIQ"
      },
      "execution_count": null,
      "outputs": []
    },
    {
      "cell_type": "code",
      "source": [
        "display(Math(r'mathtt{Typewriter}'))"
      ],
      "metadata": {
        "id": "r-NTKJGhRmMZ"
      },
      "execution_count": null,
      "outputs": []
    },
    {
      "cell_type": "code",
      "source": [
        "display(Math(r'mathcal{CALLIGRAPHY}'))"
      ],
      "metadata": {
        "id": "xMn_HTpvRttp"
      },
      "execution_count": null,
      "outputs": []
    },
    {
      "cell_type": "code",
      "source": [],
      "metadata": {
        "id": "PkWo9Lq_R1JZ"
      },
      "execution_count": null,
      "outputs": []
    }
  ]
}